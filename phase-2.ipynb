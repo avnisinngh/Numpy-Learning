{
 "cells": [
  {
   "cell_type": "markdown",
   "id": "59374108",
   "metadata": {},
   "source": [
    "## Numpy Array operations "
   ]
  },
  {
   "cell_type": "code",
   "execution_count": 1,
   "id": "7a842db2",
   "metadata": {},
   "outputs": [],
   "source": [
    "import numpy as np"
   ]
  },
  {
   "cell_type": "code",
   "execution_count": 4,
   "id": "01279615",
   "metadata": {},
   "outputs": [
    {
     "name": "stdout",
     "output_type": "stream",
     "text": [
      "Basic slicing  [3 4 5 6 7]\n",
      "With step  [3 5 7]\n",
      "Negetive indexing  8\n"
     ]
    }
   ],
   "source": [
    "arr = np.array([1, 2, 3, 4, 5, 6, 7, 8, 9, 10])\n",
    "print(\"Basic slicing \", arr[2:7])\n",
    "print(\"With step \", arr[2:7:2])\n",
    "print(\"Negetive indexing \", arr[-3])"
   ]
  },
  {
   "cell_type": "code",
   "execution_count": 7,
   "id": "d8e1fd38",
   "metadata": {},
   "outputs": [
    {
     "name": "stdout",
     "output_type": "stream",
     "text": [
      "Specific element  6\n",
      "Entire row:  [4 5 6]\n",
      "Entire column:  [2 5 8]\n"
     ]
    }
   ],
   "source": [
    "arr_2d = np.array([[1, 2, 3],\n",
    "                 [4, 5, 6],\n",
    "                 [7, 8, 9]])\n",
    "print(\"Specific element \", arr_2d[1, 2])\n",
    "print(\"Entire row: \", arr_2d[1])\n",
    "print(\"Entire column: \", arr_2d[:, 1])"
   ]
  },
  {
   "cell_type": "markdown",
   "id": "77a23173",
   "metadata": {},
   "source": [
    "## Sorting"
   ]
  },
  {
   "cell_type": "code",
   "execution_count": 14,
   "id": "b7908b5a",
   "metadata": {},
   "outputs": [
    {
     "name": "stdout",
     "output_type": "stream",
     "text": [
      "Sorted Array [ 1  3  3  4  5  5  6 24]\n",
      "Sorted 2D  Array by column [[1 0]\n",
      " [3 1]\n",
      " [6 2]]\n"
     ]
    }
   ],
   "source": [
    "unsorted = np.array([3, 1, 24, 5,6 ,3,4,5])\n",
    "print(\"Sorted Array\", np.sort(unsorted))\n",
    "\n",
    "arr_2d_unsorted = np.array([[3,1 ], [1,2], [6,0]])\n",
    "print(\"Sorted 2D  Array by column\", np.sort(arr_2d_unsorted, axis = 0))\n"
   ]
  },
  {
   "cell_type": "markdown",
   "id": "0d098203",
   "metadata": {},
   "source": [
    "## Filter\n"
   ]
  },
  {
   "cell_type": "code",
   "execution_count": 15,
   "id": "cf892c0b",
   "metadata": {},
   "outputs": [
    {
     "name": "stdout",
     "output_type": "stream",
     "text": [
      "Even numbers  [ 2  4  6  8 10]\n"
     ]
    }
   ],
   "source": [
    "numbers = np.array([1, 2, 3,4, 5, 6, 7, 8, 9, 10])\n",
    "even_number = numbers[numbers % 2 == 0]\n",
    "print(\"Even numbers \", even_number)"
   ]
  },
  {
   "cell_type": "markdown",
   "id": "be540eec",
   "metadata": {},
   "source": [
    "## filter with mask"
   ]
  },
  {
   "cell_type": "code",
   "execution_count": 16,
   "id": "09f8843e",
   "metadata": {},
   "outputs": [
    {
     "name": "stdout",
     "output_type": "stream",
     "text": [
      "Numbers greater than 5 [ 6  7  8  9 10]\n"
     ]
    }
   ],
   "source": [
    "mask = numbers > 5\n",
    "print(\"Numbers greater than 5\", numbers[mask])"
   ]
  },
  {
   "cell_type": "markdown",
   "id": "8f895982",
   "metadata": {},
   "source": [
    "## Fancy indexing vs np.where()"
   ]
  },
  {
   "cell_type": "code",
   "execution_count": 19,
   "id": "bd223a26",
   "metadata": {},
   "outputs": [
    {
     "name": "stdout",
     "output_type": "stream",
     "text": [
      "[1 3 5]\n",
      "(array([5, 6, 7, 8, 9]),)\n",
      "NP where [ 6  7  8  9 10]\n"
     ]
    }
   ],
   "source": [
    "indices = [0, 2, 4]\n",
    "print(numbers[indices])\n",
    "\n",
    "where_result = np.where(numbers > 5)\n",
    "print(where_result)\n",
    "print(\"NP where\", numbers[where_result])"
   ]
  },
  {
   "cell_type": "code",
   "execution_count": 23,
   "id": "88604ae4",
   "metadata": {},
   "outputs": [
    {
     "name": "stdout",
     "output_type": "stream",
     "text": [
      "['false' 'false' 'false' 'false' 'false' 'true' 'true' 'true' 'true'\n",
      " 'true']\n"
     ]
    }
   ],
   "source": [
    "condition_Array = np.where(numbers > 5,\"true\", \"false\")\n",
    "print(condition_Array)"
   ]
  },
  {
   "cell_type": "code",
   "execution_count": null,
   "id": "af885498",
   "metadata": {},
   "outputs": [],
   "source": [
    "## if(numbers > 5):\n",
    "##    \"true\"\n",
    "## else:\n",
    "##    \"false\"\n"
   ]
  },
  {
   "cell_type": "markdown",
   "id": "35240120",
   "metadata": {},
   "source": [
    "### Adding and removing data"
   ]
  },
  {
   "cell_type": "markdown",
   "id": "de6a6a1a",
   "metadata": {},
   "source": []
  }
 ],
 "metadata": {
  "kernelspec": {
   "display_name": "venv",
   "language": "python",
   "name": "python3"
  },
  "language_info": {
   "codemirror_mode": {
    "name": "ipython",
    "version": 3
   },
   "file_extension": ".py",
   "mimetype": "text/x-python",
   "name": "python",
   "nbconvert_exporter": "python",
   "pygments_lexer": "ipython3",
   "version": "3.13.5"
  }
 },
 "nbformat": 4,
 "nbformat_minor": 5
}
